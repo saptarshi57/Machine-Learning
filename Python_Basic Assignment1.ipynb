{
 "cells": [
  {
   "cell_type": "code",
   "execution_count": 1,
   "id": "2a8cc5d5-a15d-4fd3-92be-f84587f6f6a2",
   "metadata": {
    "tags": []
   },
   "outputs": [
    {
     "name": "stdout",
     "output_type": "stream",
     "text": [
      "Hello Python \n"
     ]
    }
   ],
   "source": [
    "print(\"Hello Python\")"
   ]
  },
  {
   "cell_type": "code",
   "execution_count": 3,
   "id": "1ed4c701-133e-48b1-b498-6392f04aa167",
   "metadata": {},
   "outputs": [
    {
     "name": "stdin",
     "output_type": "stream",
     "text": [
      "Enter a number 4\n",
      "Enter a number 2\n"
     ]
    },
    {
     "name": "stdout",
     "output_type": "stream",
     "text": [
      "Addition 6\n",
      "Division 2.0\n"
     ]
    }
   ],
   "source": [
    "a=int(input(\"Enter a number\"))\n",
    "b=int(input(\"Enter a number\"))\n",
    "print(\"Addition\",a+b)\n",
    "print(\"Division\",a/b)\n"
   ]
  },
  {
   "cell_type": "code",
   "execution_count": 5,
   "id": "0e3778d2-2f78-46f1-99b9-f020e4ba8fb5",
   "metadata": {},
   "outputs": [
    {
     "name": "stdin",
     "output_type": "stream",
     "text": [
      "Enter base of a triangle 4\n",
      "Enter height of a triangle 3\n"
     ]
    },
    {
     "name": "stdout",
     "output_type": "stream",
     "text": [
      "Area of triangle 6.0\n"
     ]
    }
   ],
   "source": [
    "b=int(input(\"Enter base of a triangle\"))\n",
    "h=int(input(\"Enter height of a triangle\"))\n",
    "area=0.5*b*h\n",
    "print(\"Area of triangle\",area)"
   ]
  },
  {
   "cell_type": "code",
   "execution_count": 8,
   "id": "b9833294-b7b4-4560-8e5d-49d07033a3c6",
   "metadata": {},
   "outputs": [
    {
     "name": "stdin",
     "output_type": "stream",
     "text": [
      "Enter a number A= 5\n",
      "Enter a number B= 10\n"
     ]
    },
    {
     "name": "stdout",
     "output_type": "stream",
     "text": [
      "After swapping\n",
      "A: 10\n",
      "B: 5\n"
     ]
    }
   ],
   "source": [
    "a=int(input(\"Enter a number A=\"))\n",
    "b=int(input(\"Enter a number B=\"))\n",
    "temp=a\n",
    "a=b\n",
    "b=temp\n",
    "print(\"After swapping\")\n",
    "print(\"A:\",a)\n",
    "print(\"B:\",b)\n",
    "\n"
   ]
  },
  {
   "cell_type": "code",
   "execution_count": 9,
   "id": "07651862-a431-4bb9-9241-00419ac80ff4",
   "metadata": {},
   "outputs": [
    {
     "name": "stdout",
     "output_type": "stream",
     "text": [
      "Random number 0.10595416423757142\n"
     ]
    }
   ],
   "source": [
    "import random\n",
    "print(\"Random number\",random.random())"
   ]
  },
  {
   "cell_type": "code",
   "execution_count": null,
   "id": "896522ec-5da6-4ca5-9c66-40e28d56d68c",
   "metadata": {},
   "outputs": [],
   "source": []
  }
 ],
 "metadata": {
  "kernelspec": {
   "display_name": "Python 3 (ipykernel)",
   "language": "python",
   "name": "python3"
  },
  "language_info": {
   "codemirror_mode": {
    "name": "ipython",
    "version": 3
   },
   "file_extension": ".py",
   "mimetype": "text/x-python",
   "name": "python",
   "nbconvert_exporter": "python",
   "pygments_lexer": "ipython3",
   "version": "3.10.6"
  }
 },
 "nbformat": 4,
 "nbformat_minor": 5
}
