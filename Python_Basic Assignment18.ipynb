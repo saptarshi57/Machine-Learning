{
 "cells": [
  {
   "cell_type": "code",
   "execution_count": 7,
   "id": "563da52d-5d4f-449a-9a9d-fdf27d329ccd",
   "metadata": {},
   "outputs": [
    {
     "data": {
      "text/plain": [
       "[1, 2, 123]"
      ]
     },
     "execution_count": 7,
     "metadata": {},
     "output_type": "execute_result"
    }
   ],
   "source": [
    "def filter_list(l):\n",
    "    list1=[]\n",
    "    for i in l:\n",
    "        if(type(i)!=str):\n",
    "            list1.append(i)\n",
    "    return list1\n",
    "    \n",
    "filter_list([1,2,\"aaf\",\"1\",\"123\",123])"
   ]
  },
  {
   "cell_type": "code",
   "execution_count": 12,
   "id": "70aecca5-6a64-48e6-82d8-75e7e1112845",
   "metadata": {},
   "outputs": [
    {
     "name": "stdin",
     "output_type": "stream",
     "text": [
      " Hello World\n"
     ]
    },
    {
     "data": {
      "text/plain": [
       "'DLROw OLLEh'"
      ]
     },
     "execution_count": 12,
     "metadata": {},
     "output_type": "execute_result"
    }
   ],
   "source": [
    "def reverse(string):\n",
    "    str1=(string[::-1]).swapcase()\n",
    "    return str1\n",
    "string=input()\n",
    "reverse(string)"
   ]
  },
  {
   "cell_type": "code",
   "execution_count": 17,
   "id": "b1aef809-807b-4e48-a9a3-c6ddbc1c81a0",
   "metadata": {},
   "outputs": [
    {
     "name": "stdin",
     "output_type": "stream",
     "text": [
      "Enter number of elements 5\n",
      " 1\n",
      " 2\n",
      " 3\n",
      " 4\n",
      " 5\n"
     ]
    },
    {
     "name": "stdout",
     "output_type": "stream",
     "text": [
      "list: [1, 2, 3, 4, 5]\n",
      "first: 1\n",
      "middle: [2, 3, 4]\n",
      "last: 5\n"
     ]
    }
   ],
   "source": [
    "list=[]\n",
    "n=int(input(\"Enter number of elements\"))\n",
    "for i in range(0,n):\n",
    "    element=int(input())\n",
    "    list.append(element)\n",
    "print(\"list:\",list)\n",
    "print(\"first:\",list[0])\n",
    "print(\"middle:\",list[1:-1])\n",
    "print(\"last:\",list[-1])"
   ]
  },
  {
   "cell_type": "code",
   "execution_count": 22,
   "id": "43c2f7ae-8d1e-4d9f-ad7f-22e9d3b41cf3",
   "metadata": {},
   "outputs": [
    {
     "name": "stdin",
     "output_type": "stream",
     "text": [
      "Enter a number: 5\n"
     ]
    },
    {
     "data": {
      "text/plain": [
       "120"
      ]
     },
     "execution_count": 22,
     "metadata": {},
     "output_type": "execute_result"
    }
   ],
   "source": [
    "def factorial(n): \n",
    "    if (n==1 or n==0):  \n",
    "        return 1\n",
    "    else:  \n",
    "        return (n * factorial(n - 1))\n",
    "n=int(input(\"Enter a number:\"))\n",
    "factorial(n)"
   ]
  },
  {
   "cell_type": "code",
   "execution_count": 21,
   "id": "72bc44ec-570d-4e99-876b-1e31d88e3fbb",
   "metadata": {},
   "outputs": [
    {
     "name": "stdin",
     "output_type": "stream",
     "text": [
      "Enter number 5\n",
      "Enter number of elements 6\n",
      " 1\n",
      " 5\n",
      " 3\n",
      " 5\n",
      " 4\n",
      " 5\n"
     ]
    },
    {
     "data": {
      "text/plain": [
       "[1, 3, 4, 5, 5, 5]"
      ]
     },
     "execution_count": 21,
     "metadata": {},
     "output_type": "execute_result"
    }
   ],
   "source": [
    "def move_to_end(li,n):\n",
    "    \n",
    "    for i in range(len(li)):\n",
    "        if(li[i]==n):\n",
    "            li.append(li.pop(i))\n",
    "           \n",
    "    return li\n",
    "    \n",
    "number=int(input(\"Enter number\"))\n",
    "list=[]\n",
    "n=int(input(\"Enter number of elements\"))\n",
    "for i in range(0,n):\n",
    "    element=int(input())\n",
    "    list.append(element)\n",
    "move_to_end(list,number)"
   ]
  },
  {
   "cell_type": "code",
   "execution_count": null,
   "id": "bf08316f-1a21-4109-99e0-52dd56d26494",
   "metadata": {},
   "outputs": [],
   "source": []
  }
 ],
 "metadata": {
  "kernelspec": {
   "display_name": "Python 3 (ipykernel)",
   "language": "python",
   "name": "python3"
  },
  "language_info": {
   "codemirror_mode": {
    "name": "ipython",
    "version": 3
   },
   "file_extension": ".py",
   "mimetype": "text/x-python",
   "name": "python",
   "nbconvert_exporter": "python",
   "pygments_lexer": "ipython3",
   "version": "3.10.6"
  }
 },
 "nbformat": 4,
 "nbformat_minor": 5
}
