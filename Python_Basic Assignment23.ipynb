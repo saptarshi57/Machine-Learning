{
 "cells": [
  {
   "cell_type": "code",
   "execution_count": 4,
   "id": "dfa4c213-5fff-405d-8f33-fd22f9df9573",
   "metadata": {},
   "outputs": [
    {
     "name": "stdin",
     "output_type": "stream",
     "text": [
      "Enter a number 7227\n"
     ]
    },
    {
     "data": {
      "text/plain": [
       "True"
      ]
     },
     "execution_count": 4,
     "metadata": {},
     "output_type": "execute_result"
    }
   ],
   "source": [
    "def is_symmetrical(n):\n",
    "    num=str(n)[::-1]\n",
    "    if(int(num)==n):\n",
    "        return True\n",
    "    else:\n",
    "        return False\n",
    "n=int(input(\"Enter a number\"))\n",
    "is_symmetrical(n)\n",
    "    "
   ]
  },
  {
   "cell_type": "code",
   "execution_count": 18,
   "id": "1f5f76cc-03b7-46f3-bffb-f1dc1e7ac5f7",
   "metadata": {},
   "outputs": [
    {
     "data": {
      "text/plain": [
       "24"
      ]
     },
     "execution_count": 18,
     "metadata": {},
     "output_type": "execute_result"
    }
   ],
   "source": [
    "import math\n",
    "def multiply_nums(nums):\n",
    "    integer_list = []\n",
    "    new_list = list(nums)\n",
    "    sliced_list = new_list[0::3]\n",
    "    for elem in sliced_list:\n",
    "        int_elem = int(elem)\n",
    "        integer_list.append(int_elem)\n",
    "    return math.prod(integer_list)\n",
    "        \n",
    "\n",
    "multiply_nums(\"1, 2, 3, 4\")\n"
   ]
  },
  {
   "cell_type": "code",
   "execution_count": 13,
   "id": "039ded6d-51c5-470b-a1a0-31670e3766ba",
   "metadata": {},
   "outputs": [
    {
     "name": "stdin",
     "output_type": "stream",
     "text": [
      "Enter a number 9119\n"
     ]
    },
    {
     "data": {
      "text/plain": [
       "811181"
      ]
     },
     "execution_count": 13,
     "metadata": {},
     "output_type": "execute_result"
    }
   ],
   "source": [
    "def square_digits(n):\n",
    "    s=\"\"\n",
    "    for i in str(n):\n",
    "        square=(int(i)**2)\n",
    "        s=s+str(square)\n",
    "        num=int(s)\n",
    "    \n",
    "    return num\n",
    "    \n",
    "    \n",
    "n=int(input(\"Enter a number\"))\n",
    "square_digits(n)"
   ]
  },
  {
   "cell_type": "code",
   "execution_count": 22,
   "id": "32597146-8f59-45b4-86a3-2f6cd855849c",
   "metadata": {},
   "outputs": [
    {
     "name": "stdin",
     "output_type": "stream",
     "text": [
      "Enter number of elements 5\n",
      " 3\n",
      " 3\n",
      " 3\n",
      " 2\n",
      " 1\n"
     ]
    },
    {
     "data": {
      "text/plain": [
       "[1, 2, 3]"
      ]
     },
     "execution_count": 22,
     "metadata": {},
     "output_type": "execute_result"
    }
   ],
   "source": [
    "def setify(l):\n",
    "    mylist=sorted(set(l))\n",
    "    return mylist\n",
    "list=[]\n",
    "n=int(input(\"Enter number of elements\"))\n",
    "for i in range(0,n):\n",
    "    element=int(input())\n",
    "    list.append(element)\n",
    "setify(list)  "
   ]
  },
  {
   "cell_type": "code",
   "execution_count": 12,
   "id": "3eba7f71-b53c-400b-ac35-c0c33b88c86a",
   "metadata": {},
   "outputs": [
    {
     "name": "stdin",
     "output_type": "stream",
     "text": [
      "Enter a number 512\n"
     ]
    },
    {
     "data": {
      "text/plain": [
       "2"
      ]
     },
     "execution_count": 12,
     "metadata": {},
     "output_type": "execute_result"
    }
   ],
   "source": [
    "def mean(n):\n",
    "    s=0\n",
    "    length=len(str(n))\n",
    "    \n",
    "    for i in str(n):\n",
    "        s=(s+int(i))\n",
    "    mean=int(s/length)\n",
    "    return mean\n",
    "n=int(input(\"Enter a number\"))\n",
    "mean(n)\n",
    "        \n",
    "    "
   ]
  },
  {
   "cell_type": "code",
   "execution_count": null,
   "id": "a44c2658-fd1d-40ae-859f-bab9cc8aff8c",
   "metadata": {},
   "outputs": [],
   "source": []
  }
 ],
 "metadata": {
  "kernelspec": {
   "display_name": "Python 3 (ipykernel)",
   "language": "python",
   "name": "python3"
  },
  "language_info": {
   "codemirror_mode": {
    "name": "ipython",
    "version": 3
   },
   "file_extension": ".py",
   "mimetype": "text/x-python",
   "name": "python",
   "nbconvert_exporter": "python",
   "pygments_lexer": "ipython3",
   "version": "3.10.6"
  }
 },
 "nbformat": 4,
 "nbformat_minor": 5
}
