{
 "cells": [
  {
   "cell_type": "code",
   "execution_count": 3,
   "id": "cef1cec2-f002-4948-9eec-e30ecdfb0a5e",
   "metadata": {},
   "outputs": [
    {
     "name": "stdin",
     "output_type": "stream",
     "text": [
      "Enter a kilometer value 3\n"
     ]
    },
    {
     "name": "stdout",
     "output_type": "stream",
     "text": [
      "Mile 1.8641130000000001\n"
     ]
    }
   ],
   "source": [
    "km=int(input(\"Enter a kilometer value\"))\n",
    "mile=km*0.621371\n",
    "print(\"Mile\",mile)"
   ]
  },
  {
   "cell_type": "code",
   "execution_count": 5,
   "id": "e560cf2f-d71f-4899-93cb-44976dbfa08e",
   "metadata": {},
   "outputs": [
    {
     "name": "stdin",
     "output_type": "stream",
     "text": [
      "Enter a celcius temperature 100\n"
     ]
    },
    {
     "name": "stdout",
     "output_type": "stream",
     "text": [
      "Temperature in fahrenheit: 212.0\n"
     ]
    }
   ],
   "source": [
    "celsius=float(input(\"Enter a celcius temperature\"))\n",
    "fahrenheit = (celsius * 1.8 )+ 32\n",
    "print(\"Temperature in fahrenheit:\",fahrenheit)\n"
   ]
  },
  {
   "cell_type": "code",
   "execution_count": 7,
   "id": "37b1c76f-1f48-4da7-9f36-59752178ce52",
   "metadata": {},
   "outputs": [
    {
     "name": "stdin",
     "output_type": "stream",
     "text": [
      "Enter a year 2023\n"
     ]
    },
    {
     "name": "stdout",
     "output_type": "stream",
     "text": [
      "                                  2023\n",
      "\n",
      "      January                   February                   March\n",
      "Mo Tu We Th Fr Sa Su      Mo Tu We Th Fr Sa Su      Mo Tu We Th Fr Sa Su\n",
      "                   1             1  2  3  4  5             1  2  3  4  5\n",
      " 2  3  4  5  6  7  8       6  7  8  9 10 11 12       6  7  8  9 10 11 12\n",
      " 9 10 11 12 13 14 15      13 14 15 16 17 18 19      13 14 15 16 17 18 19\n",
      "16 17 18 19 20 21 22      20 21 22 23 24 25 26      20 21 22 23 24 25 26\n",
      "23 24 25 26 27 28 29      27 28                     27 28 29 30 31\n",
      "30 31\n",
      "\n",
      "       April                      May                       June\n",
      "Mo Tu We Th Fr Sa Su      Mo Tu We Th Fr Sa Su      Mo Tu We Th Fr Sa Su\n",
      "                1  2       1  2  3  4  5  6  7                1  2  3  4\n",
      " 3  4  5  6  7  8  9       8  9 10 11 12 13 14       5  6  7  8  9 10 11\n",
      "10 11 12 13 14 15 16      15 16 17 18 19 20 21      12 13 14 15 16 17 18\n",
      "17 18 19 20 21 22 23      22 23 24 25 26 27 28      19 20 21 22 23 24 25\n",
      "24 25 26 27 28 29 30      29 30 31                  26 27 28 29 30\n",
      "\n",
      "        July                     August                  September\n",
      "Mo Tu We Th Fr Sa Su      Mo Tu We Th Fr Sa Su      Mo Tu We Th Fr Sa Su\n",
      "                1  2          1  2  3  4  5  6                   1  2  3\n",
      " 3  4  5  6  7  8  9       7  8  9 10 11 12 13       4  5  6  7  8  9 10\n",
      "10 11 12 13 14 15 16      14 15 16 17 18 19 20      11 12 13 14 15 16 17\n",
      "17 18 19 20 21 22 23      21 22 23 24 25 26 27      18 19 20 21 22 23 24\n",
      "24 25 26 27 28 29 30      28 29 30 31               25 26 27 28 29 30\n",
      "31\n",
      "\n",
      "      October                   November                  December\n",
      "Mo Tu We Th Fr Sa Su      Mo Tu We Th Fr Sa Su      Mo Tu We Th Fr Sa Su\n",
      "                   1             1  2  3  4  5                   1  2  3\n",
      " 2  3  4  5  6  7  8       6  7  8  9 10 11 12       4  5  6  7  8  9 10\n",
      " 9 10 11 12 13 14 15      13 14 15 16 17 18 19      11 12 13 14 15 16 17\n",
      "16 17 18 19 20 21 22      20 21 22 23 24 25 26      18 19 20 21 22 23 24\n",
      "23 24 25 26 27 28 29      27 28 29 30               25 26 27 28 29 30 31\n",
      "30 31\n",
      "\n"
     ]
    }
   ],
   "source": [
    "import calendar\n",
    "yy=int(input(\"Enter a year\"))\n",
    "calendar=calendar.calendar(yy)\n",
    "print(calendar)"
   ]
  },
  {
   "cell_type": "code",
   "execution_count": 9,
   "id": "43994ff0-add3-4d23-aa28-9f6a9b05e46c",
   "metadata": {},
   "outputs": [
    {
     "name": "stdin",
     "output_type": "stream",
     "text": [
      "Enter a non zero number 1\n",
      "Enter a number 2\n",
      "Enter a number 1\n"
     ]
    },
    {
     "name": "stdout",
     "output_type": "stream",
     "text": [
      "Root 1= -1.0\n",
      "Root 2= -1.0\n"
     ]
    }
   ],
   "source": [
    "import math\n",
    "a=float(input(\"Enter a non zero number\"))\n",
    "b=float(input(\"Enter a number\"))\n",
    "c=float(input(\"Enter a number\"))\n",
    "dis=(b * b) - (4 * a * c)\n",
    "root1=(-b+math.sqrt(dis))/(2*a)\n",
    "root2=(-b-math.sqrt(dis))/(2*a)\n",
    "print(\"Root 1=\",root1)\n",
    "print(\"Root 2=\",root2)"
   ]
  },
  {
   "cell_type": "code",
   "execution_count": 11,
   "id": "21f589cc-64f0-4908-848f-8dd82ae5f155",
   "metadata": {},
   "outputs": [
    {
     "name": "stdin",
     "output_type": "stream",
     "text": [
      "Enter a number A= 5\n",
      "Enter a number B= 10\n"
     ]
    },
    {
     "name": "stdout",
     "output_type": "stream",
     "text": [
      "After swapping\n",
      "A: 10\n",
      "B: 5\n"
     ]
    }
   ],
   "source": [
    "a=int(input(\"Enter a number A=\"))\n",
    "b=int(input(\"Enter a number B=\"))\n",
    "a,b=b,a\n",
    "print(\"After swapping\")\n",
    "print(\"A:\",a)\n",
    "print(\"B:\",b)"
   ]
  },
  {
   "cell_type": "code",
   "execution_count": null,
   "id": "411f32e5-bfea-4773-9833-a3f0a51dcb78",
   "metadata": {},
   "outputs": [],
   "source": []
  }
 ],
 "metadata": {
  "kernelspec": {
   "display_name": "Python 3 (ipykernel)",
   "language": "python",
   "name": "python3"
  },
  "language_info": {
   "codemirror_mode": {
    "name": "ipython",
    "version": 3
   },
   "file_extension": ".py",
   "mimetype": "text/x-python",
   "name": "python",
   "nbconvert_exporter": "python",
   "pygments_lexer": "ipython3",
   "version": "3.10.6"
  }
 },
 "nbformat": 4,
 "nbformat_minor": 5
}
