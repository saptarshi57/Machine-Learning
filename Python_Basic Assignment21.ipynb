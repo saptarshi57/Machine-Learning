{
 "cells": [
  {
   "cell_type": "code",
   "execution_count": 8,
   "id": "465e4ba4-b84d-4eda-abff-9ac80f302e37",
   "metadata": {},
   "outputs": [
    {
     "name": "stdin",
     "output_type": "stream",
     "text": [
      "Enter number 10\n",
      "Enter number of elements 5\n",
      " 7\n",
      " 6\n",
      " 3\n",
      " 23\n",
      " 17\n"
     ]
    },
    {
     "name": "stdout",
     "output_type": "stream",
     "text": [
      "[6, 3, 23, 17, 10]\n"
     ]
    },
    {
     "data": {
      "text/plain": [
       "[6, 3, 23, 17, 10]"
      ]
     },
     "execution_count": 8,
     "metadata": {},
     "output_type": "execute_result"
    }
   ],
   "source": [
    "def next_in_line(li,n):\n",
    "    li.append(n)\n",
    "    li.pop(0)\n",
    "    return li\n",
    "       \n",
    "number=int(input(\"Enter number\"))\n",
    "list=[]\n",
    "n=int(input(\"Enter number of elements\"))\n",
    "for i in range(0,n):\n",
    "    element=int(input())\n",
    "    list.append(element)\n",
    "next_in_line(list,number)\n",
    "    "
   ]
  },
  {
   "cell_type": "code",
   "execution_count": 4,
   "id": "919ba599-96a0-4c43-b006-6c9632ba425b",
   "metadata": {},
   "outputs": [
    {
     "data": {
      "text/plain": [
       "[9, 2, 16]"
      ]
     },
     "execution_count": 4,
     "metadata": {},
     "output_type": "execute_result"
    }
   ],
   "source": [
    "def return_only_integer(li):\n",
    "    list1=[]\n",
    "    for i in li:\n",
    "       \n",
    "        if(type(i)!=str):\n",
    "            list1.append(i)\n",
    "    return list1\n",
    "            \n",
    "    \n",
    "\n",
    "return_only_integer([9,2,\"space\",\"car\",\"lion\",16])\n",
    "\n"
   ]
  },
  {
   "cell_type": "code",
   "execution_count": 15,
   "id": "eebeb45d-7b94-4650-8104-75f5db135875",
   "metadata": {},
   "outputs": [
    {
     "name": "stdin",
     "output_type": "stream",
     "text": [
      " hacker\n"
     ]
    },
    {
     "data": {
      "text/plain": [
       "'acehkr'"
      ]
     },
     "execution_count": 15,
     "metadata": {},
     "output_type": "execute_result"
    }
   ],
   "source": [
    "def alphabet_soup(str):\n",
    "    str1=''.join(sorted(str))\n",
    "    return str1\n",
    "    \n",
    "str=input()\n",
    "alphabet_soup(str)\n",
    "\n"
   ]
  },
  {
   "cell_type": "code",
   "execution_count": 21,
   "id": "c9bf7136-989c-4d1d-8dfb-15715435721e",
   "metadata": {},
   "outputs": [
    {
     "name": "stdin",
     "output_type": "stream",
     "text": [
      "Principal 10000\n",
      "Rate 6\n",
      "N 12\n",
      "Time 10\n"
     ]
    },
    {
     "data": {
      "text/plain": [
       "18194"
      ]
     },
     "execution_count": 21,
     "metadata": {},
     "output_type": "execute_result"
    }
   ],
   "source": [
    "def compound_interest(principal,rate,n,time):\n",
    "    amount=round(principal*(1+((rate/100)/n))**(n*time))\n",
    "    return amount\n",
    "principal=float(input(\"Principal\"))\n",
    "rate=float(input(\"Rate\"))\n",
    "n=int(input(\"N\"))\n",
    "time=int(input(\"Time\"))\n",
    "compound_interest(principal,rate,n,time)\n"
   ]
  },
  {
   "cell_type": "code",
   "execution_count": 7,
   "id": "d763c268-459f-438a-ac88-abf7cbdd2d1a",
   "metadata": {},
   "outputs": [
    {
     "data": {
      "text/plain": [
       "65700"
      ]
     },
     "execution_count": 7,
     "metadata": {},
     "output_type": "execute_result"
    }
   ],
   "source": [
    "def get_budgets(l):\n",
    "    total=0\n",
    "    for budget in l:\n",
    "        total=total+budget[\"budget\"]\n",
    "    return total\n",
    "get_budgets([\n",
    "    {'name': 'John','age':21, 'budget': 23000},\n",
    "    {'name': 'Steve', 'age':32, 'budget': 40000},\n",
    "    {'name': 'Martin', 'age':16, 'budget': 2700},\n",
    "])\n",
    "    "
   ]
  },
  {
   "cell_type": "code",
   "execution_count": null,
   "id": "0b2d00df-af0e-4c45-97eb-5bf1818932f7",
   "metadata": {},
   "outputs": [],
   "source": []
  }
 ],
 "metadata": {
  "kernelspec": {
   "display_name": "Python 3 (ipykernel)",
   "language": "python",
   "name": "python3"
  },
  "language_info": {
   "codemirror_mode": {
    "name": "ipython",
    "version": 3
   },
   "file_extension": ".py",
   "mimetype": "text/x-python",
   "name": "python",
   "nbconvert_exporter": "python",
   "pygments_lexer": "ipython3",
   "version": "3.10.6"
  }
 },
 "nbformat": 4,
 "nbformat_minor": 5
}
